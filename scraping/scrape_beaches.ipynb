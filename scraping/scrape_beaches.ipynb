{
 "cells": [
  {
   "cell_type": "code",
   "execution_count": 95,
   "metadata": {},
   "outputs": [],
   "source": [
    "import bs4\n",
    "import requests\n",
    "import pandas as pd"
   ]
  },
  {
   "cell_type": "markdown",
   "metadata": {},
   "source": [
    "Scrape beaches page from rhodes.gr"
   ]
  },
  {
   "cell_type": "code",
   "execution_count": 17,
   "metadata": {},
   "outputs": [
    {
     "data": {
      "text/plain": [
       "<Response [200]>"
      ]
     },
     "execution_count": 17,
     "metadata": {},
     "output_type": "execute_result"
    }
   ],
   "source": [
    "headers = {'User-Agent': 'Mozilla/5.0 (Macintosh; Intel Mac OS X 10_11_5) AppleWebKit/537.36 (KHTML, like Gecko) Chrome/50.0.2661.102 Safari/537.36'}\n",
    "response = requests.get('https://www.rhodes.gr/tourist-guide/beaches/?lang=en', headers=headers)\n",
    "response"
   ]
  },
  {
   "cell_type": "code",
   "execution_count": 100,
   "metadata": {},
   "outputs": [
    {
     "name": "stdout",
     "output_type": "stream",
     "text": [
      "2\n",
      "6\n"
     ]
    }
   ],
   "source": [
    "x = [1, 2, 4, 6]\n",
    "g = iter(x)\n",
    "for _ in g:\n",
    "    print(next(g))"
   ]
  },
  {
   "cell_type": "code",
   "execution_count": 19,
   "metadata": {},
   "outputs": [],
   "source": [
    "soup = bs4.BeautifulSoup(response.text, \"html.parser\")"
   ]
  },
  {
   "cell_type": "code",
   "execution_count": 102,
   "metadata": {},
   "outputs": [
    {
     "name": "stdout",
     "output_type": "stream",
     "text": [
      "Failed to find photo for Fournoi.\n",
      "Failed to find photo for Gournes.\n",
      "Failed to find photo for Haraki.\n",
      "Failed to find photo for Ialyssos.\n",
      "Failed to find photo for Kiotari.\n",
      "Failed to find photo for Lardos.\n",
      "Failed to find photo for Vagies.\n"
     ]
    }
   ],
   "source": [
    "main_content = soup.find_all(\"div\", {\"class\": \"td-main-content-wrap\"})[0]\n",
    "beaches_text = main_content.find_all(\"div\", {\"class\": \"txt_page\"})[0]\n",
    "\n",
    "data = {\"name\": [], \"photo_url\": [], \"description\": []}\n",
    "beaches_gen = iter(beaches_text.find_all(\"p\"))\n",
    "\n",
    "for entry in beaches_gen:\n",
    "    text = entry.get_text()\n",
    "    \n",
    "    if not text:\n",
    "        continue\n",
    "    \n",
    "    if text[0].isdigit():\n",
    "        name = text.split(\".\")[1][1:]\n",
    "        data[\"name\"].append(name)\n",
    "        data[\"description\"].append(next(beaches_gen).get_text())\n",
    "                \n",
    "        photos = entry.find_all(\"img\")\n",
    "        if photos:\n",
    "            data[\"photo_url\"].append(photos[0][\"src\"])\n",
    "        else:\n",
    "            print(\"Failed to find photo for {}.\".format(name))\n",
    "            data[\"photo_url\"].append(None)"
   ]
  },
  {
   "cell_type": "code",
   "execution_count": 103,
   "metadata": {},
   "outputs": [
    {
     "data": {
      "text/html": [
       "<div>\n",
       "<style scoped>\n",
       "    .dataframe tbody tr th:only-of-type {\n",
       "        vertical-align: middle;\n",
       "    }\n",
       "\n",
       "    .dataframe tbody tr th {\n",
       "        vertical-align: top;\n",
       "    }\n",
       "\n",
       "    .dataframe thead th {\n",
       "        text-align: right;\n",
       "    }\n",
       "</style>\n",
       "<table border=\"1\" class=\"dataframe\">\n",
       "  <thead>\n",
       "    <tr style=\"text-align: right;\">\n",
       "      <th></th>\n",
       "      <th>name</th>\n",
       "      <th>photo_url</th>\n",
       "      <th>description</th>\n",
       "    </tr>\n",
       "  </thead>\n",
       "  <tbody>\n",
       "    <tr>\n",
       "      <th>0</th>\n",
       "      <td>Afandou</td>\n",
       "      <td>http://www.rhodes.gr/wp-content/uploads/2016/0...</td>\n",
       "      <td>Great in length, with small pebbles and sand a...</td>\n",
       "    </tr>\n",
       "    <tr>\n",
       "      <th>1</th>\n",
       "      <td>Agathi</td>\n",
       "      <td>http://www.rhodes.gr/wp-content/uploads/2016/0...</td>\n",
       "      <td>Sandy beach, sheltered. Located east of Rhodes...</td>\n",
       "    </tr>\n",
       "    <tr>\n",
       "      <th>2</th>\n",
       "      <td>Anthony Quinn</td>\n",
       "      <td>http://www.rhodes.gr/wp-content/uploads/2016/0...</td>\n",
       "      <td>Ideal for scuba diving because of the underwat...</td>\n",
       "    </tr>\n",
       "    <tr>\n",
       "      <th>3</th>\n",
       "      <td>Faliraki</td>\n",
       "      <td>http://www.rhodes.gr/wp-content/uploads/2016/0...</td>\n",
       "      <td>Four kilometers of length one of the most orga...</td>\n",
       "    </tr>\n",
       "    <tr>\n",
       "      <th>4</th>\n",
       "      <td>Fournoi</td>\n",
       "      <td>None</td>\n",
       "      <td>Small beach near the village of Monolith with ...</td>\n",
       "    </tr>\n",
       "    <tr>\n",
       "      <th>5</th>\n",
       "      <td>Gennadi</td>\n",
       "      <td>http://www.rhodes.gr/wp-content/uploads/2016/0...</td>\n",
       "      <td>Long beach with sand and small pebbles. It has...</td>\n",
       "    </tr>\n",
       "    <tr>\n",
       "      <th>6</th>\n",
       "      <td>Glystra</td>\n",
       "      <td>http://www.rhodes.gr/wp-content/uploads/2016/0...</td>\n",
       "      <td>Beach with fine sand. Quiet beach it has umbre...</td>\n",
       "    </tr>\n",
       "    <tr>\n",
       "      <th>7</th>\n",
       "      <td>Gournes</td>\n",
       "      <td>None</td>\n",
       "      <td>Cosmopolitan beach on the east coast, with umb...</td>\n",
       "    </tr>\n",
       "    <tr>\n",
       "      <th>8</th>\n",
       "      <td>Haraki</td>\n",
       "      <td>None</td>\n",
       "      <td>Beach is visited mainly by families. With pebb...</td>\n",
       "    </tr>\n",
       "    <tr>\n",
       "      <th>9</th>\n",
       "      <td>Ialyssos</td>\n",
       "      <td>None</td>\n",
       "      <td>It is one of the most organized of the island ...</td>\n",
       "    </tr>\n",
       "    <tr>\n",
       "      <th>10</th>\n",
       "      <td>Kalathos</td>\n",
       "      <td>http://www.rhodes.gr/wp-content/uploads/2016/0...</td>\n",
       "      <td>Four kilometers length of sand and small pebbl...</td>\n",
       "    </tr>\n",
       "    <tr>\n",
       "      <th>11</th>\n",
       "      <td>Kallithea</td>\n",
       "      <td>http://www.rhodes.gr/wp-content/uploads/2016/0...</td>\n",
       "      <td>Beach with palm trees and pines. Located near ...</td>\n",
       "    </tr>\n",
       "    <tr>\n",
       "      <th>12</th>\n",
       "      <td>Kiotari</td>\n",
       "      <td>None</td>\n",
       "      <td>Great in length, with fine sand, deck chairs a...</td>\n",
       "    </tr>\n",
       "    <tr>\n",
       "      <th>13</th>\n",
       "      <td>Lardos</td>\n",
       "      <td>None</td>\n",
       "      <td>Located on the south-eastern coast after the a...</td>\n",
       "    </tr>\n",
       "    <tr>\n",
       "      <th>14</th>\n",
       "      <td>Lindos</td>\n",
       "      <td>http://www.rhodes.gr/wp-content/uploads/2016/0...</td>\n",
       "      <td>A purely tourist beach below the settlement. I...</td>\n",
       "    </tr>\n",
       "    <tr>\n",
       "      <th>15</th>\n",
       "      <td>Pefkoi</td>\n",
       "      <td>http://www.rhodes.gr/wp-content/uploads/2016/0...</td>\n",
       "      <td>An area with many country houses of local resi...</td>\n",
       "    </tr>\n",
       "    <tr>\n",
       "      <th>16</th>\n",
       "      <td>Prasonisi</td>\n",
       "      <td>http://www.rhodes.gr/wp-content/uploads/2016/0...</td>\n",
       "      <td>Sandy beach located at the southernmost point ...</td>\n",
       "    </tr>\n",
       "    <tr>\n",
       "      <th>17</th>\n",
       "      <td>Saint Paul</td>\n",
       "      <td>http://www.rhodes.gr/wp-content/uploads/2016/0...</td>\n",
       "      <td>Pebbles, sand and clear green water. Located i...</td>\n",
       "    </tr>\n",
       "    <tr>\n",
       "      <th>18</th>\n",
       "      <td>Stegna</td>\n",
       "      <td>http://www.rhodes.gr/wp-content/uploads/2016/0...</td>\n",
       "      <td>Sand and pebbles, it has umbrellas, taverns an...</td>\n",
       "    </tr>\n",
       "    <tr>\n",
       "      <th>19</th>\n",
       "      <td>Traounou or Traganou</td>\n",
       "      <td>http://www.rhodes.gr/wp-content/uploads/2016/0...</td>\n",
       "      <td>Fifteen kilometers from Rhodes town and four k...</td>\n",
       "    </tr>\n",
       "    <tr>\n",
       "      <th>20</th>\n",
       "      <td>Tsambika</td>\n",
       "      <td>http://www.rhodes.gr/wp-content/uploads/2016/0...</td>\n",
       "      <td>Twenty six kilometers southeast of the city of...</td>\n",
       "    </tr>\n",
       "    <tr>\n",
       "      <th>21</th>\n",
       "      <td>Vagies</td>\n",
       "      <td>None</td>\n",
       "      <td>Located thirty eight kilometers from Rhodes To...</td>\n",
       "    </tr>\n",
       "    <tr>\n",
       "      <th>22</th>\n",
       "      <td>Vlycha</td>\n",
       "      <td>http://www.rhodes.gr/wp-content/uploads/2016/0...</td>\n",
       "      <td>Favorite beach for local residents. The sea de...</td>\n",
       "    </tr>\n",
       "  </tbody>\n",
       "</table>\n",
       "</div>"
      ],
      "text/plain": [
       "                    name                                          photo_url  \\\n",
       "0                Afandou  http://www.rhodes.gr/wp-content/uploads/2016/0...   \n",
       "1                 Agathi  http://www.rhodes.gr/wp-content/uploads/2016/0...   \n",
       "2          Anthony Quinn  http://www.rhodes.gr/wp-content/uploads/2016/0...   \n",
       "3               Faliraki  http://www.rhodes.gr/wp-content/uploads/2016/0...   \n",
       "4                Fournoi                                               None   \n",
       "5                Gennadi  http://www.rhodes.gr/wp-content/uploads/2016/0...   \n",
       "6                Glystra  http://www.rhodes.gr/wp-content/uploads/2016/0...   \n",
       "7                Gournes                                               None   \n",
       "8                 Haraki                                               None   \n",
       "9               Ialyssos                                               None   \n",
       "10              Kalathos  http://www.rhodes.gr/wp-content/uploads/2016/0...   \n",
       "11             Kallithea  http://www.rhodes.gr/wp-content/uploads/2016/0...   \n",
       "12               Kiotari                                               None   \n",
       "13                Lardos                                               None   \n",
       "14                Lindos  http://www.rhodes.gr/wp-content/uploads/2016/0...   \n",
       "15                Pefkoi  http://www.rhodes.gr/wp-content/uploads/2016/0...   \n",
       "16             Prasonisi  http://www.rhodes.gr/wp-content/uploads/2016/0...   \n",
       "17            Saint Paul  http://www.rhodes.gr/wp-content/uploads/2016/0...   \n",
       "18                Stegna  http://www.rhodes.gr/wp-content/uploads/2016/0...   \n",
       "19  Traounou or Traganou  http://www.rhodes.gr/wp-content/uploads/2016/0...   \n",
       "20              Tsambika  http://www.rhodes.gr/wp-content/uploads/2016/0...   \n",
       "21                Vagies                                               None   \n",
       "22                Vlycha  http://www.rhodes.gr/wp-content/uploads/2016/0...   \n",
       "\n",
       "                                          description  \n",
       "0   Great in length, with small pebbles and sand a...  \n",
       "1   Sandy beach, sheltered. Located east of Rhodes...  \n",
       "2   Ideal for scuba diving because of the underwat...  \n",
       "3   Four kilometers of length one of the most orga...  \n",
       "4   Small beach near the village of Monolith with ...  \n",
       "5   Long beach with sand and small pebbles. It has...  \n",
       "6   Beach with fine sand. Quiet beach it has umbre...  \n",
       "7   Cosmopolitan beach on the east coast, with umb...  \n",
       "8   Beach is visited mainly by families. With pebb...  \n",
       "9   It is one of the most organized of the island ...  \n",
       "10  Four kilometers length of sand and small pebbl...  \n",
       "11  Beach with palm trees and pines. Located near ...  \n",
       "12  Great in length, with fine sand, deck chairs a...  \n",
       "13  Located on the south-eastern coast after the a...  \n",
       "14  A purely tourist beach below the settlement. I...  \n",
       "15  An area with many country houses of local resi...  \n",
       "16  Sandy beach located at the southernmost point ...  \n",
       "17  Pebbles, sand and clear green water. Located i...  \n",
       "18  Sand and pebbles, it has umbrellas, taverns an...  \n",
       "19  Fifteen kilometers from Rhodes town and four k...  \n",
       "20  Twenty six kilometers southeast of the city of...  \n",
       "21  Located thirty eight kilometers from Rhodes To...  \n",
       "22  Favorite beach for local residents. The sea de...  "
      ]
     },
     "execution_count": 103,
     "metadata": {},
     "output_type": "execute_result"
    }
   ],
   "source": [
    "data_df = pd.DataFrame(data)\n",
    "data_df"
   ]
  },
  {
   "cell_type": "code",
   "execution_count": 104,
   "metadata": {},
   "outputs": [],
   "source": [
    "data_df.to_csv(\"beaches.csv\", index=False)"
   ]
  },
  {
   "cell_type": "code",
   "execution_count": null,
   "metadata": {},
   "outputs": [],
   "source": [
    "g"
   ]
  }
 ],
 "metadata": {
  "kernelspec": {
   "display_name": "Python 3",
   "language": "python",
   "name": "python3"
  },
  "language_info": {
   "codemirror_mode": {
    "name": "ipython",
    "version": 3
   },
   "file_extension": ".py",
   "mimetype": "text/x-python",
   "name": "python",
   "nbconvert_exporter": "python",
   "pygments_lexer": "ipython3",
   "version": "3.6.9"
  }
 },
 "nbformat": 4,
 "nbformat_minor": 2
}
