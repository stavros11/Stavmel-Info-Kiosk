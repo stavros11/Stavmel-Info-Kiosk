{
 "cells": [
  {
   "cell_type": "code",
   "execution_count": 5,
   "metadata": {},
   "outputs": [],
   "source": [
    "import sqlalchemy\n",
    "import pandas as pd\n",
    "import os\n",
    "\n",
    "data_dir = \"/home/stavros/DATA/InfoKiosk\"\n",
    "\n",
    "\n",
    "db_uri = \"sqlite:///{}/places.db\".format(data_dir)\n",
    "engine = sqlalchemy.create_engine(db_uri, echo=False)"
   ]
  },
  {
   "cell_type": "code",
   "execution_count": 7,
   "metadata": {},
   "outputs": [],
   "source": [
    "filenames = {\"beaches\": \"beach\", \"monuments\": \"monument\", \"natural\": \"natural\", \"museums\": \"museum\"}\n",
    "\n",
    "for filename, tablename in filenames.items():\n",
    "    data_df = pd.read_csv(os.path.join(data_dir, \"{}.csv\".format(filename)))\n",
    "    sql_database = data_df.to_sql(tablename, con=engine)"
   ]
  },
  {
   "cell_type": "code",
   "execution_count": null,
   "metadata": {},
   "outputs": [],
   "source": []
  }
 ],
 "metadata": {
  "kernelspec": {
   "display_name": "Python 3",
   "language": "python",
   "name": "python3"
  },
  "language_info": {
   "codemirror_mode": {
    "name": "ipython",
    "version": 3
   },
   "file_extension": ".py",
   "mimetype": "text/x-python",
   "name": "python",
   "nbconvert_exporter": "python",
   "pygments_lexer": "ipython3",
   "version": "3.6.9"
  }
 },
 "nbformat": 4,
 "nbformat_minor": 2
}
