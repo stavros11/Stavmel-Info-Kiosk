{
 "cells": [
  {
   "cell_type": "code",
   "execution_count": 1,
   "metadata": {},
   "outputs": [],
   "source": [
    "import sqlalchemy\n",
    "import pandas as pd\n",
    "import os\n",
    "\n",
    "data_dir = \"/home/stavros/DATA/InfoKiosk\"\n",
    "required_columns = ['name',\n",
    " 'opening_hours',\n",
    " 'telephone',\n",
    " 'address',\n",
    " 'price',\n",
    " 'photo_url',\n",
    " 'description',\n",
    " 'google_maps',\n",
    " 'latitude',\n",
    " 'longitude',\n",
    " 'directions_url',\n",
    " 'road_distance',\n",
    " 'road_time']"
   ]
  },
  {
   "cell_type": "code",
   "execution_count": 7,
   "metadata": {},
   "outputs": [],
   "source": [
    "filenames = {\"beaches\": \"beach\", \"monuments\": \"monument\", \"natural\": \"natural\", \"museums\": \"museum\"}\n",
    "\n",
    "for filename in filenames.keys():\n",
    "    data = pd.read_csv(os.path.join(data_dir, \"{}.csv\".format(filename)))\n",
    "    if list(data.columns) != required_columns:\n",
    "        print(\"{} has incorrect columns.\".format(filename))"
   ]
  },
  {
   "cell_type": "code",
   "execution_count": 8,
   "metadata": {
    "scrolled": true
   },
   "outputs": [],
   "source": [
    "db_uri = \"sqlite:///{}/data.db\".format(data_dir)\n",
    "engine = sqlalchemy.create_engine(db_uri, echo=False)\n",
    "\n",
    "for filename, tablename in filenames.items():\n",
    "    data = pd.read_csv(os.path.join(data_dir, \"{}.csv\".format(filename)))\n",
    "    sql_database = data.to_sql(tablename, con=engine)\n",
    "    \n",
    "    \n",
    "data = pd.read_csv(os.path.join(data_dir, \"useful_phones.csv\"))\n",
    "data.to_sql(\"phones\", con=engine)"
   ]
  },
  {
   "cell_type": "code",
   "execution_count": null,
   "metadata": {},
   "outputs": [],
   "source": []
  }
 ],
 "metadata": {
  "kernelspec": {
   "display_name": "Python 3",
   "language": "python",
   "name": "python3"
  },
  "language_info": {
   "codemirror_mode": {
    "name": "ipython",
    "version": 3
   },
   "file_extension": ".py",
   "mimetype": "text/x-python",
   "name": "python",
   "nbconvert_exporter": "python",
   "pygments_lexer": "ipython3",
   "version": "3.6.9"
  }
 },
 "nbformat": 4,
 "nbformat_minor": 2
}
