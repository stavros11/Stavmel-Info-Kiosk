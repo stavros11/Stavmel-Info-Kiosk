{
 "cells": [
  {
   "cell_type": "code",
   "execution_count": 41,
   "metadata": {},
   "outputs": [],
   "source": [
    "import os\n",
    "import pandas as pd\n",
    "import re\n",
    "import requests\n",
    "\n",
    "data_dir = \"/home/stavros/DATA/InfoKiosk\""
   ]
  },
  {
   "cell_type": "code",
   "execution_count": 57,
   "metadata": {},
   "outputs": [],
   "source": [
    "museums = pd.read_csv(os.path.join(data_dir, \"museums_hand.csv\"))\n",
    "monuments = pd.read_csv(os.path.join(data_dir, \"monuments_hand.csv\"))\n",
    "natural = pd.read_csv(os.path.join(data_dir, \"natural_beauty_hand.csv\"))"
   ]
  },
  {
   "cell_type": "markdown",
   "metadata": {},
   "source": [
    "Find coordinates"
   ]
  },
  {
   "cell_type": "code",
   "execution_count": 58,
   "metadata": {},
   "outputs": [],
   "source": [
    "headers = {'User-Agent': 'Mozilla/5.0 (Windows NT 6.1) AppleWebKit/537.36 (KHTML, like Gecko) Chrome/41.0.2228.0 Safari/537.36'}\n",
    "\n",
    "def search_name(name):\n",
    "    sname = \"+\".join(name.split(\" \"))\n",
    "    return \"https://www.google.gr/maps/search/{}\".format(sname)\n",
    "\n",
    "\n",
    "def find_link(text, target=\"@36\"):\n",
    "    idx = text.find(target)\n",
    "    start = idx\n",
    "    while text[start] != '\"':\n",
    "        start -= 1\n",
    "    end = idx\n",
    "    while text[end] != '\"':\n",
    "        end += 1\n",
    "    return text[start + 1:end]\n",
    "\n",
    "\n",
    "def get_link(name):\n",
    "    sname = search_name(name + \" Rhodes\")\n",
    "    response = requests.get(sname, headers=headers)\n",
    "    link = find_link(response.text)\n",
    "    if link:\n",
    "        return link\n",
    "    print(\"Failed to find link for {}.\".format(sname))\n",
    "    \n",
    "    sname = search_name(name)\n",
    "    response = requests.get(sname, headers=headers)\n",
    "    link = find_link(response.text)\n",
    "    if link:\n",
    "        return link\n",
    "    print(\"Failed to find link for {}.\".format(sname))\n",
    "    \n",
    "    return None\n",
    "\n",
    "\n",
    "def coords_from_link(link):\n",
    "    if link is None:\n",
    "        return None\n",
    "    \n",
    "    coords_str = [p for p in link.split(\"/\") if p and p[0] == \"@\"]\n",
    "    if not coords_str:\n",
    "        raise ValueError(\"Failed to find coordinates in {}.\")\n",
    "    elif len(coords_str) > 1:\n",
    "        raise ValueError(\"Found multiple coordinates in {}.\".format(link))\n",
    "    \n",
    "    coords_ls = coords_str[0].split(\",\")\n",
    "    assert coords_ls[0][0] == \"@\"\n",
    "    c1 = float(coords_ls[0][1:])\n",
    "    c2 = float(coords_ls[1])\n",
    "    return (c1, c2)\n",
    "\n",
    "\n",
    "def find_coordinates(data_df):\n",
    "    data_df[\"google_maps\"] = data_df[\"name\"].map(get_link)\n",
    "    coordinates = data_df[\"google_maps\"].map(coords_from_link)\n",
    "    \n",
    "    data_df[\"latitude\"] = coordinates.map(lambda c: c[0] if c is not None else None)\n",
    "    data_df[\"longitude\"] = coordinates.map(lambda c: c[1] if c is not None else None)\n",
    "    return data_df"
   ]
  },
  {
   "cell_type": "code",
   "execution_count": 59,
   "metadata": {
    "scrolled": true
   },
   "outputs": [
    {
     "name": "stdout",
     "output_type": "stream",
     "text": [
      "Failed to find link for https://www.google.gr/maps/search/Ancient+Kamiros+Rhodes.\n",
      "Failed to find link for https://www.google.gr/maps/search/Ancient+Kamiros.\n",
      "Failed to find link for https://www.google.gr/maps/search/The+Vroulia+Rhodes.\n",
      "Failed to find link for https://www.google.gr/maps/search/The+Vroulia.\n",
      "Failed to find link for https://www.google.gr/maps/search/The+Palace+of+the+Grand+Master+(Byzantine+Museum)+Rhodes.\n",
      "Failed to find link for https://www.google.gr/maps/search/The+Museum+of+Modern+Greek+Art+Rhodes.\n",
      "Failed to find link for https://www.google.gr/maps/search/The+Museum+of+Modern+Greek+Art.\n",
      "Failed to find link for https://www.google.gr/maps/search/The+Aquarium+of+Rhodes+or+Hydrobiological+Station+of+Rhodes+Rhodes.\n",
      "Failed to find link for https://www.google.gr/maps/search/The+Aquarium+of+Rhodes+or+Hydrobiological+Station+of+Rhodes.\n",
      "Failed to find link for https://www.google.gr/maps/search/Hostel+of+St.+Catherine+(Hagia+Aikaterini)+Rhodes.\n",
      "Failed to find link for https://www.google.gr/maps/search/Hostel+of+St.+Catherine+(Hagia+Aikaterini).\n",
      "Failed to find link for https://www.google.gr/maps/search/The+Jewish+Museum+of+Rhodes+Rhodes.\n",
      "Failed to find link for https://www.google.gr/maps/search/The+Jewish+Museum+of+Rhodes.\n",
      "Failed to find link for https://www.google.gr/maps/search/Rhodian+House+Rhodes.\n",
      "Failed to find link for https://www.google.gr/maps/search/Rhodian+House.\n",
      "Failed to find link for https://www.google.gr/maps/search/Prophet+Elias+Rhodes.\n",
      "Failed to find link for https://www.google.gr/maps/search/Prophet+Elias.\n",
      "Failed to find link for https://www.google.gr/maps/search/The+Seven+Springs+Rhodes.\n",
      "Failed to find link for https://www.google.gr/maps/search/The+Seven+Springs.\n",
      "Failed to find link for https://www.google.gr/maps/search/Prassonisi+Rhodes.\n",
      "Failed to find link for https://www.google.gr/maps/search/Prassonisi.\n"
     ]
    }
   ],
   "source": [
    "monuments = find_coordinates(monuments)\n",
    "museums = find_coordinates(museums)\n",
    "natural = find_coordinates(natural)"
   ]
  },
  {
   "cell_type": "code",
   "execution_count": 95,
   "metadata": {},
   "outputs": [],
   "source": [
    "monuments.to_csv(os.path.join(data_dir, \"monuments.csv\"), index=False)\n",
    "museums.to_csv(os.path.join(data_dir, \"museums.csv\"), index=False)\n",
    "natural.to_csv(os.path.join(data_dir, \"natural.csv\"), index=False)"
   ]
  },
  {
   "cell_type": "code",
   "execution_count": 110,
   "metadata": {},
   "outputs": [],
   "source": [
    "def directions_link(name):\n",
    "    sname = \"+\".join(name.split(\" \"))\n",
    "    return \"https://www.google.gr/maps/dir/Stavros+Melathron+hotel/{}/am=t\".format(sname)\n",
    "\n",
    "\n",
    "def find_target(text, target=\"χλμ.\"):\n",
    "    idx = text.find(target)\n",
    "    start = idx\n",
    "    while text[start] != '\"':\n",
    "        start -= 1\n",
    "    end = idx\n",
    "    while text[end] != '\"':\n",
    "        end += 1\n",
    "    return text[start + 1:end]\n",
    "\n",
    "\n",
    "def find_distance_and_time(name):\n",
    "    link = directions_link(name)\n",
    "    response = requests.get(link, headers=headers)\n",
    "    if response.status_code != 200:\n",
    "        print(\"Failed to find distance for {}.\".format(name))\n",
    "        return None, None, None\n",
    "    \n",
    "    try:\n",
    "        distance_string = find_target(response.text, target=\"χλμ.\")\n",
    "        time_string = find_target(response.text, target=\"λεπτ.\")\n",
    "\n",
    "        distance_match = re.match(\"(\\d+),(\\d+) χλμ.\", distance_string)\n",
    "        distance = float(\".\".join([distance_match.group(1), distance_match.group(2)]))\n",
    "\n",
    "        time_match = re.match(\"((\\d+) ώρ. )?(\\d+) λεπτ.\", time_string)\n",
    "        hours = 0 if time_match.group(2) is None else int(time_match.group(2))\n",
    "        minutes = int(time_match.group(3))\n",
    "    except Exception as e:\n",
    "        print(name, e)\n",
    "        return link, None, None\n",
    "    \n",
    "    return link, distance, 60 * hours + minutes\n",
    "\n",
    "\n",
    "def find_directions(data_df):\n",
    "    directions = data_df[\"name\"].map(find_distance_and_time)\n",
    "    \n",
    "    data_df[\"directions_url\"] = directions.map(lambda c: c[0] if c is not None else None)\n",
    "    data_df[\"road_distance\"] = directions.map(lambda c: c[1] if c is not None else None)\n",
    "    data_df[\"road_time\"] = directions.map(lambda c: c[2] if c is not None else None)\n",
    "    \n",
    "    return data_df"
   ]
  },
  {
   "cell_type": "code",
   "execution_count": 97,
   "metadata": {},
   "outputs": [],
   "source": [
    "monuments = pd.read_csv(os.path.join(data_dir, \"monuments.csv\"))\n",
    "museums = pd.read_csv(os.path.join(data_dir, \"museums.csv\"))\n",
    "natural = pd.read_csv(os.path.join(data_dir, \"natural.csv\"))"
   ]
  },
  {
   "cell_type": "code",
   "execution_count": 111,
   "metadata": {},
   "outputs": [
    {
     "name": "stdout",
     "output_type": "stream",
     "text": [
      "The Vroulia 'NoneType' object has no attribute 'group'\n",
      "Hostel of St. Catherine (Hagia Aikaterini) 'NoneType' object has no attribute 'group'\n",
      "Preserved Traditional Settlement Koskinou 'NoneType' object has no attribute 'group'\n"
     ]
    }
   ],
   "source": [
    "monuments = find_directions(monuments)\n",
    "museums = find_directions(museums)\n",
    "natural = find_directions(natural)"
   ]
  },
  {
   "cell_type": "code",
   "execution_count": 113,
   "metadata": {},
   "outputs": [],
   "source": [
    "monuments.to_csv(os.path.join(data_dir, \"monuments.csv\"), index=False)\n",
    "museums.to_csv(os.path.join(data_dir, \"museums.csv\"), index=False)\n",
    "natural.to_csv(os.path.join(data_dir, \"natural.csv\"), index=False)"
   ]
  },
  {
   "cell_type": "code",
   "execution_count": null,
   "metadata": {},
   "outputs": [],
   "source": []
  }
 ],
 "metadata": {
  "kernelspec": {
   "display_name": "Python 3",
   "language": "python",
   "name": "python3"
  },
  "language_info": {
   "codemirror_mode": {
    "name": "ipython",
    "version": 3
   },
   "file_extension": ".py",
   "mimetype": "text/x-python",
   "name": "python",
   "nbconvert_exporter": "python",
   "pygments_lexer": "ipython3",
   "version": "3.6.9"
  }
 },
 "nbformat": 4,
 "nbformat_minor": 2
}
